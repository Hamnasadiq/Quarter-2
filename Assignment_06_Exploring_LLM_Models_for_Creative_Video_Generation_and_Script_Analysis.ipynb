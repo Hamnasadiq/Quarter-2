{
  "nbformat": 4,
  "nbformat_minor": 0,
  "metadata": {
    "colab": {
      "provenance": [],
      "authorship_tag": "ABX9TyNuWrge9lQp7qKIkwt3DBDR",
      "include_colab_link": true
    },
    "kernelspec": {
      "name": "python3",
      "display_name": "Python 3"
    },
    "language_info": {
      "name": "python"
    }
  },
  "cells": [
    {
      "cell_type": "markdown",
      "metadata": {
        "id": "view-in-github",
        "colab_type": "text"
      },
      "source": [
        "<a href=\"https://colab.research.google.com/github/Hamnasadiq/Quarter-2/blob/main/Assignment_06_Exploring_LLM_Models_for_Creative_Video_Generation_and_Script_Analysis.ipynb\" target=\"_parent\"><img src=\"https://colab.research.google.com/assets/colab-badge.svg\" alt=\"Open In Colab\"/></a>"
      ]
    },
    {
      "cell_type": "code",
      "source": [
        "from google.colab import userdata\n",
        "GEMINI_API_KEY=userdata.get('GOOGLE_API_KEY_1')"
      ],
      "metadata": {
        "id": "BmmQ27iRzezC"
      },
      "execution_count": 1,
      "outputs": []
    },
    {
      "cell_type": "code",
      "source": [
        "!pip install langchain_google_genai -U -q"
      ],
      "metadata": {
        "id": "12fgnv295B9F"
      },
      "execution_count": 3,
      "outputs": []
    },
    {
      "cell_type": "code",
      "source": [
        "from langchain_google_genai import ChatGoogleGenerativeAI\n"
      ],
      "metadata": {
        "id": "K73S7kki5UUQ"
      },
      "execution_count": 4,
      "outputs": []
    },
    {
      "cell_type": "code",
      "source": [
        "llm = ChatGoogleGenerativeAI(\n",
        "    api_key=GEMINI_API_KEY,\n",
        "    model=\"gemini-2.0-flash-exp\",\n",
        ")"
      ],
      "metadata": {
        "id": "mThD-MAO5-Z6"
      },
      "execution_count": 5,
      "outputs": []
    },
    {
      "cell_type": "code",
      "source": [
        "from google.colab import files\n",
        "uploaded = files.upload()\n",
        "for file_name in uploaded.keys():\n",
        "  print(f\"Uploaded file{file_name}\")"
      ],
      "metadata": {
        "colab": {
          "base_uri": "https://localhost:8080/",
          "height": 90
        },
        "id": "wVoUmXZz7SmK",
        "outputId": "74d5d665-350e-4c0e-a249-ecf100221132"
      },
      "execution_count": 6,
      "outputs": [
        {
          "output_type": "display_data",
          "data": {
            "text/plain": [
              "<IPython.core.display.HTML object>"
            ],
            "text/html": [
              "\n",
              "     <input type=\"file\" id=\"files-863dace2-3a6d-4a58-9a42-bbfc788e072f\" name=\"files[]\" multiple disabled\n",
              "        style=\"border:none\" />\n",
              "     <output id=\"result-863dace2-3a6d-4a58-9a42-bbfc788e072f\">\n",
              "      Upload widget is only available when the cell has been executed in the\n",
              "      current browser session. Please rerun this cell to enable.\n",
              "      </output>\n",
              "      <script>// Copyright 2017 Google LLC\n",
              "//\n",
              "// Licensed under the Apache License, Version 2.0 (the \"License\");\n",
              "// you may not use this file except in compliance with the License.\n",
              "// You may obtain a copy of the License at\n",
              "//\n",
              "//      http://www.apache.org/licenses/LICENSE-2.0\n",
              "//\n",
              "// Unless required by applicable law or agreed to in writing, software\n",
              "// distributed under the License is distributed on an \"AS IS\" BASIS,\n",
              "// WITHOUT WARRANTIES OR CONDITIONS OF ANY KIND, either express or implied.\n",
              "// See the License for the specific language governing permissions and\n",
              "// limitations under the License.\n",
              "\n",
              "/**\n",
              " * @fileoverview Helpers for google.colab Python module.\n",
              " */\n",
              "(function(scope) {\n",
              "function span(text, styleAttributes = {}) {\n",
              "  const element = document.createElement('span');\n",
              "  element.textContent = text;\n",
              "  for (const key of Object.keys(styleAttributes)) {\n",
              "    element.style[key] = styleAttributes[key];\n",
              "  }\n",
              "  return element;\n",
              "}\n",
              "\n",
              "// Max number of bytes which will be uploaded at a time.\n",
              "const MAX_PAYLOAD_SIZE = 100 * 1024;\n",
              "\n",
              "function _uploadFiles(inputId, outputId) {\n",
              "  const steps = uploadFilesStep(inputId, outputId);\n",
              "  const outputElement = document.getElementById(outputId);\n",
              "  // Cache steps on the outputElement to make it available for the next call\n",
              "  // to uploadFilesContinue from Python.\n",
              "  outputElement.steps = steps;\n",
              "\n",
              "  return _uploadFilesContinue(outputId);\n",
              "}\n",
              "\n",
              "// This is roughly an async generator (not supported in the browser yet),\n",
              "// where there are multiple asynchronous steps and the Python side is going\n",
              "// to poll for completion of each step.\n",
              "// This uses a Promise to block the python side on completion of each step,\n",
              "// then passes the result of the previous step as the input to the next step.\n",
              "function _uploadFilesContinue(outputId) {\n",
              "  const outputElement = document.getElementById(outputId);\n",
              "  const steps = outputElement.steps;\n",
              "\n",
              "  const next = steps.next(outputElement.lastPromiseValue);\n",
              "  return Promise.resolve(next.value.promise).then((value) => {\n",
              "    // Cache the last promise value to make it available to the next\n",
              "    // step of the generator.\n",
              "    outputElement.lastPromiseValue = value;\n",
              "    return next.value.response;\n",
              "  });\n",
              "}\n",
              "\n",
              "/**\n",
              " * Generator function which is called between each async step of the upload\n",
              " * process.\n",
              " * @param {string} inputId Element ID of the input file picker element.\n",
              " * @param {string} outputId Element ID of the output display.\n",
              " * @return {!Iterable<!Object>} Iterable of next steps.\n",
              " */\n",
              "function* uploadFilesStep(inputId, outputId) {\n",
              "  const inputElement = document.getElementById(inputId);\n",
              "  inputElement.disabled = false;\n",
              "\n",
              "  const outputElement = document.getElementById(outputId);\n",
              "  outputElement.innerHTML = '';\n",
              "\n",
              "  const pickedPromise = new Promise((resolve) => {\n",
              "    inputElement.addEventListener('change', (e) => {\n",
              "      resolve(e.target.files);\n",
              "    });\n",
              "  });\n",
              "\n",
              "  const cancel = document.createElement('button');\n",
              "  inputElement.parentElement.appendChild(cancel);\n",
              "  cancel.textContent = 'Cancel upload';\n",
              "  const cancelPromise = new Promise((resolve) => {\n",
              "    cancel.onclick = () => {\n",
              "      resolve(null);\n",
              "    };\n",
              "  });\n",
              "\n",
              "  // Wait for the user to pick the files.\n",
              "  const files = yield {\n",
              "    promise: Promise.race([pickedPromise, cancelPromise]),\n",
              "    response: {\n",
              "      action: 'starting',\n",
              "    }\n",
              "  };\n",
              "\n",
              "  cancel.remove();\n",
              "\n",
              "  // Disable the input element since further picks are not allowed.\n",
              "  inputElement.disabled = true;\n",
              "\n",
              "  if (!files) {\n",
              "    return {\n",
              "      response: {\n",
              "        action: 'complete',\n",
              "      }\n",
              "    };\n",
              "  }\n",
              "\n",
              "  for (const file of files) {\n",
              "    const li = document.createElement('li');\n",
              "    li.append(span(file.name, {fontWeight: 'bold'}));\n",
              "    li.append(span(\n",
              "        `(${file.type || 'n/a'}) - ${file.size} bytes, ` +\n",
              "        `last modified: ${\n",
              "            file.lastModifiedDate ? file.lastModifiedDate.toLocaleDateString() :\n",
              "                                    'n/a'} - `));\n",
              "    const percent = span('0% done');\n",
              "    li.appendChild(percent);\n",
              "\n",
              "    outputElement.appendChild(li);\n",
              "\n",
              "    const fileDataPromise = new Promise((resolve) => {\n",
              "      const reader = new FileReader();\n",
              "      reader.onload = (e) => {\n",
              "        resolve(e.target.result);\n",
              "      };\n",
              "      reader.readAsArrayBuffer(file);\n",
              "    });\n",
              "    // Wait for the data to be ready.\n",
              "    let fileData = yield {\n",
              "      promise: fileDataPromise,\n",
              "      response: {\n",
              "        action: 'continue',\n",
              "      }\n",
              "    };\n",
              "\n",
              "    // Use a chunked sending to avoid message size limits. See b/62115660.\n",
              "    let position = 0;\n",
              "    do {\n",
              "      const length = Math.min(fileData.byteLength - position, MAX_PAYLOAD_SIZE);\n",
              "      const chunk = new Uint8Array(fileData, position, length);\n",
              "      position += length;\n",
              "\n",
              "      const base64 = btoa(String.fromCharCode.apply(null, chunk));\n",
              "      yield {\n",
              "        response: {\n",
              "          action: 'append',\n",
              "          file: file.name,\n",
              "          data: base64,\n",
              "        },\n",
              "      };\n",
              "\n",
              "      let percentDone = fileData.byteLength === 0 ?\n",
              "          100 :\n",
              "          Math.round((position / fileData.byteLength) * 100);\n",
              "      percent.textContent = `${percentDone}% done`;\n",
              "\n",
              "    } while (position < fileData.byteLength);\n",
              "  }\n",
              "\n",
              "  // All done.\n",
              "  yield {\n",
              "    response: {\n",
              "      action: 'complete',\n",
              "    }\n",
              "  };\n",
              "}\n",
              "\n",
              "scope.google = scope.google || {};\n",
              "scope.google.colab = scope.google.colab || {};\n",
              "scope.google.colab._files = {\n",
              "  _uploadFiles,\n",
              "  _uploadFilesContinue,\n",
              "};\n",
              "})(self);\n",
              "</script> "
            ]
          },
          "metadata": {}
        },
        {
          "output_type": "stream",
          "name": "stdout",
          "text": [
            "Saving From Sunrise to Success_ United Futures-VEED.mp4 to From Sunrise to Success_ United Futures-VEED.mp4\n",
            "Uploaded fileFrom Sunrise to Success_ United Futures-VEED.mp4\n"
          ]
        }
      ]
    },
    {
      "cell_type": "code",
      "source": [
        "from google import genai\n",
        "from google.genai import Client"
      ],
      "metadata": {
        "id": "ZgHlAGpCEEnY"
      },
      "execution_count": 7,
      "outputs": []
    },
    {
      "cell_type": "code",
      "source": [
        "model:str=\"gemini-2.0-flash-exp\"\n",
        "client:Client=genai.Client(\n",
        "    api_key=GEMINI_API_KEY,\n",
        ")\n"
      ],
      "metadata": {
        "id": "o-a1KVs9E_N0"
      },
      "execution_count": 8,
      "outputs": []
    },
    {
      "cell_type": "code",
      "source": [
        "import time\n",
        "\n",
        "def upload_video(video_file_name):\n",
        "  video_file = client.files.upload(path=\"/content/From Sunrise to Success_ United Futures-VEED.mp4\")\n",
        "  while video_file.state == \"PROCESSING\":\n",
        "      print('Waiting for video to be processed.')\n",
        "      time.sleep(10)\n",
        "      video_file = client.files.get(name=video_file.name or \"\")\n",
        "\n",
        "  if video_file.state == \"FAILED\":\n",
        "    raise ValueError(video_file.state)\n",
        "  print(f'Video processing complete: ' + (video_file.uri or \"\"))\n",
        "\n",
        "  return video_file\n",
        "\n",
        "pottery_video = upload_video('Pottery.mp4')"
      ],
      "metadata": {
        "colab": {
          "base_uri": "https://localhost:8080/"
        },
        "id": "cScsxm_vFi1T",
        "outputId": "b215f87a-76e2-40b5-daee-8fddecb21053"
      },
      "execution_count": 10,
      "outputs": [
        {
          "output_type": "stream",
          "name": "stdout",
          "text": [
            "Waiting for video to be processed.\n",
            "Video processing complete: https://generativelanguage.googleapis.com/v1beta/files/pd2jqolxih2y\n"
          ]
        }
      ]
    },
    {
      "cell_type": "code",
      "source": [
        "from IPython.display import display,Audio,Markdown"
      ],
      "metadata": {
        "id": "qi0BaqJiPjfY"
      },
      "execution_count": 12,
      "outputs": []
    },
    {
      "cell_type": "code",
      "source": [
        "from google.genai.types import Content, Part\n",
        "prompt = \"\"\"For each scene in this video,\n",
        "            generate captions that describe the scene along with any spoken text placed in quotation marks.\n",
        "            Place each caption into an object with the timecode of the caption in the video.\n",
        "         \"\"\"\n",
        "\n",
        "video = pottery_video\n",
        "\n",
        "response = client.models.generate_content(\n",
        "    model=model,\n",
        "    contents=[\n",
        "        Content(\n",
        "            role=\"user\",\n",
        "            parts=[\n",
        "                Part.from_uri(\n",
        "                    file_uri=video.uri or \"\",\n",
        "                    mime_type=video.mime_type or \"\"),\n",
        "                ]),\n",
        "        prompt,\n",
        "    ]\n",
        ")\n",
        "\n",
        "Markdown(response.text)\n",
        ""
      ],
      "metadata": {
        "colab": {
          "base_uri": "https://localhost:8080/",
          "height": 1000
        },
        "id": "XbcvRbU7PXSG",
        "outputId": "fa5f345b-6cb3-4381-97c1-2381114a9e55"
      },
      "execution_count": 13,
      "outputs": [
        {
          "output_type": "execute_result",
          "data": {
            "text/plain": [
              "<IPython.core.display.Markdown object>"
            ],
            "text/markdown": "```json\n[\n    {\n        \"timecode\": \"00:00\",\n        \"caption\": \"A high aerial shot of a city as the sun rises. There is a bright yellow sun emoji superimposed on the scene. The text overlay reads: \\\"AS THE SUN\\\"\"\n    },\n     {\n        \"timecode\": \"00:01\",\n        \"caption\": \"A high aerial shot of a city. A bright blue paint brush emoji and the text overlay reads: \\\"IT PAINTS\\\" \"\n    },\n    {\n        \"timecode\": \"00:03\",\n        \"caption\": \"A high aerial shot of a city with text overlay: \\\"IT PAINTS A CANVAS OF POSSIBILITIES\\\" \"\n    },\n    {\n        \"timecode\": \"00:04\",\n        \"caption\":\"A high aerial shot of a city as the sun rises. There is a lightbulb emoji superimposed on the scene. The text overlay reads: \\\"EACH RAY OF\\\"\"\n    },\n     {\n        \"timecode\": \"00:05\",\n        \"caption\": \"A high aerial shot of a city with text overlay reads: \\\"EACH RAY OF LIGHT BRINGS NEW HOPE,\\\"\"\n    },\n     {\n        \"timecode\": \"00:07\",\n        \"caption\":\"A high aerial shot of a city, a rainbow emoji is superimposed on the scene, with text overlay reads: \\\"THE\\\"\"\n    },\n    {\n        \"timecode\": \"00:08\",\n        \"caption\":\"A high aerial shot of a city with text overlay: \\\"THE PATHS WE TAKE\\\"\"\n    },\n   {\n        \"timecode\": \"00:09\",\n        \"caption\":\"A high aerial shot of a city, a rainbow emoji is superimposed on the scene, with text overlay: \\\"THE PATHS WE TAKE IN THIS VIBRANT\\\"\"\n    },\n  {\n        \"timecode\": \"00:11\",\n      \"caption\":\"A high aerial shot of a city with a two person emoji superimposed on the scene, text overlay: \\\"PEOPLE ARE WAKING UP\\\"\"\n    },\n     {\n        \"timecode\":\"00:12\",\n      \"caption\":\"A high aerial shot of a city with text overlay: \\\"DREAMS, READY TO MAKE AN IMPACT.\\\"\"\n    },\n  {\n        \"timecode\":\"00:16\",\n      \"caption\":\"A high aerial shot of a city with a laptop emoji superimposed on the scene, with text overlay: \\\"LOOK AROUND. IN TECHNOLOGY,\\\"\"\n  },\n  {\n        \"timecode\": \"00:17\",\n        \"caption\": \"A high aerial shot of a city with a linked rings emoji superimposed on the scene, with text overlay: \\\"IN TECHNOLOGY, BRILLIANT MINDS\\\" \"\n    },\n  {\n        \"timecode\":\"00:20\",\n        \"caption\":\"A man stands in front of a computer screen showing stock graphs while holding a laptop. A linked rings emoji is superimposed on the scene, with text overlay: \\\"FUTURE, CRAFTING INNOVATIONS\\\"\"\n    },\n     {\n        \"timecode\":\"00:22\",\n        \"caption\":\"A man stands in front of a computer screen showing stock graphs while holding a laptop, a question mark emoji is superimposed on the scene, with text overlay: \\\"IN CLASSROOMS,\\\"\"\n    },\n     {\n        \"timecode\":\"00:23\",\n        \"caption\":\"A man stands in front of a computer screen showing stock graphs while holding a laptop, a question mark emoji is superimposed on the scene, with text overlay: \\\"IN CLASSROOMS, EDUCATORS INSPIRE\\\"\"\n    },\n     {\n        \"timecode\":\"00:25\",\n        \"caption\":\"A man stands in front of a computer screen showing stock graphs while holding a laptop, a question mark emoji is superimposed on the scene, with text overlay: \\\"GENERATION, IGNITING\\\"\"\n  },\n    {\n        \"timecode\":\"00:26\",\n       \"caption\":\"A close shot of the torso of a person writing, a question mark emoji is superimposed on the scene, with text overlay: \\\"GENERATION, IGNITING CURIOSITY AND FOSTERING CREATIVITY.\\\"\"\n   },\n      {\n          \"timecode\":\"00:30\",\n        \"caption\":\"A close shot of the torso of a person writing. A gold key emoji is superimposed on the scene. Text overlay: \\\"IN HEALTH CARE, COMPASSIONATE PROFESSIONALS\\\"\"\n    },\n     {\n       \"timecode\":\"00:32\",\n     \"caption\":\"A close shot of the torso of a person writing. A gold key emoji is superimposed on the scene. Text overlay: \\\"TIRELESSLY, ENSURING\\\"\"\n    },\n      {\n       \"timecode\":\"00:35\",\n       \"caption\":\"A close shot of the torso of a person writing.  A rainbow flag emoji is superimposed on the scene. Text overlay: \\\"DIVERSITY\\\"\"\n   },\n    {\n      \"timecode\":\"00:37\",\n     \"caption\":\"A close shot of the torso of a person writing. A rainbow flag emoji is superimposed on the scene. Text overlay: \\\"DIVERSITY FUELS OUR PROGRESS.\\\"\"\n    },\n    {\n        \"timecode\":\"00:39\",\n       \"caption\":\"A woman wearing headphones and a tan sweater is speaking. A blue speech bubble emoji is superimposed on the scene. Text overlay: \\\"EVERY\\\"\"\n    },\n     {\n         \"timecode\":\"00:40\",\n       \"caption\":\"A woman wearing headphones and a tan sweater is speaking. A blue speech bubble emoji is superimposed on the scene. Text overlay: \\\"EVERY VOICE, EVERY BACKGROUND\\\"\"\n   },\n  {\n        \"timecode\":\"00:43\",\n      \"caption\":\"A woman wearing headphones and a tan sweater is speaking.  A spool of thread emoji is superimposed on the scene. Text overlay: \\\"THREAD TO THE TAPESTRY OF OUR SOCIETY.\\\"\"\n  },\n     {\n      \"timecode\":\"00:47\",\n         \"caption\":\"A woman wearing headphones and a tan sweater is speaking. A two person emoji is superimposed on the scene. Text overlay: \\\"TOGETHER WE COLLABORATE, SHARE IDEAS AND\\\"\"\n    },\n    {\n      \"timecode\":\"00:49\",\n     \"caption\": \"A baby lies on their back. Text overlay: \\\"IDEAS AND PUSH BOUNDARIES.\\\"\"\n  },\n  {\n        \"timecode\":\"00:50\",\n        \"caption\":\"A baby lies on their back. Text overlay: \\\"WE ARE ARTISTS, ENGINEERS, TEACHERS\\\"\"\n    },\n     {\n       \"timecode\":\"00:53\",\n       \"caption\":\"A baby lies on their back. Text overlay: \\\"HEALERS UNITED BY A COMMON PURPOSE.\\\"\"\n   },\n   {\n       \"timecode\":\"00:56\",\n        \"caption\": \"A baby lies on their back. A yellow sun emoji is superimposed on the scene. Text overlay: \\\"AS THE\\\"\"\n    },\n    {\n        \"timecode\":\"00:57\",\n       \"caption\":\"A baby lies on their back. A yellow sun emoji is superimposed on the scene. Text overlay: \\\"AS THE DAY UNFOLDS, WE BUILD BRIDGES,\\\"\"\n   },\n    {\n        \"timecode\":\"00:59\",\n        \"caption\":\"A high aerial shot of a beachside road, full of cars, as the sun is setting. A blue diamond is superimposed on the scene.  Text overlay: \\\"BARRIERS AND\\\"\"\n   },\n  {\n        \"timecode\":\"01:01\",\n      \"caption\":\"A high aerial shot of a beachside road, full of cars, as the sun is setting. A yellow sun emoji is superimposed on the scene. Text overlay: \\\"AND CREATE SOLUTIONS THAT SHAPE OUR WORLD.\\\"\"\n  },\n  {\n       \"timecode\":\"01:03\",\n       \"caption\":\"A high aerial shot of a beachside road, full of cars, as the sun is setting. A yellow sun emoji is superimposed on the scene. Text overlay: \\\"AND AS THE SUN SETS,\\\"\"\n    },\n  {\n        \"timecode\":\"01:05\",\n        \"caption\":\"A high aerial shot of a beach as the sun is setting and the lights in the city are starting to come on. A city at night emoji is superimposed on the scene. Text overlay: \\\"OVER THE SKYLINE,\\\"\"\n    },\n   {\n        \"timecode\":\"01:07\",\n       \"caption\": \"A high aerial shot of a beach as the sun is setting and the lights in the city are starting to come on.  A city at night emoji is superimposed on the scene. Text overlay: \\\"OVER THE SKYLINE, WE REFLECT ON OUR JOURNEY.\\\"\"\n    },\n  {\n       \"timecode\":\"01:09\",\n        \"caption\":\"A woman with a microphone speaks on a stage. A two person emoji is superimposed on the scene. Text overlay: \\\"TOGETHER,\\\"\"\n   },\n    {\n       \"timecode\":\"01:11\",\n     \"caption\":\"A woman with a microphone speaks on a stage. A two person emoji is superimposed on the scene. Text overlay: \\\"TOGETHER, WE CREATE THE FUTURE\\\"\"\n    }\n]\n```"
          },
          "metadata": {},
          "execution_count": 13
        }
      ]
    }
  ]
}